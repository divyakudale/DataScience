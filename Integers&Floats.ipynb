{
 "cells": [
  {
   "cell_type": "raw",
   "id": "fffcf288-4216-4780-96c6-343c221a9ba2",
   "metadata": {},
   "source": [
    "no. are represented using integers and floats.\n",
    "Integer represent Whole no.\n",
    "Float represent decimal."
   ]
  },
  {
   "cell_type": "code",
   "execution_count": 8,
   "id": "311c5066-efb6-4f5a-95cb-fae16b8d211e",
   "metadata": {},
   "outputs": [
    {
     "name": "stdout",
     "output_type": "stream",
     "text": [
      "<class 'float'>\n"
     ]
    }
   ],
   "source": [
    "num = 3.14\n",
    "print(type(num))"
   ]
  },
  {
   "cell_type": "raw",
   "id": "bd2d1c58-2cfb-4c43-b36e-be9eedc7fdbf",
   "metadata": {},
   "source": [
    "// Floor Division\n",
    "** Exponent"
   ]
  },
  {
   "cell_type": "code",
   "execution_count": 9,
   "id": "6d6081c0-b163-4964-a0c6-90f6db5a812a",
   "metadata": {},
   "outputs": [
    {
     "name": "stdout",
     "output_type": "stream",
     "text": [
      "34\n",
      "-18\n",
      "208\n",
      "64\n",
      "0.3076923076923077\n",
      "0\n",
      "8\n"
     ]
    }
   ],
   "source": [
    "print(8+26)\n",
    "print(8-26)\n",
    "print(8*26)\n",
    "print(8**2)\n",
    "print(8/26)\n",
    "print(8//26)\n",
    "print(8%26)"
   ]
  },
  {
   "cell_type": "code",
   "execution_count": 10,
   "id": "e3c4ff3f-65ff-4841-8190-78110ef144e7",
   "metadata": {},
   "outputs": [
    {
     "name": "stdout",
     "output_type": "stream",
     "text": [
      "2\n"
     ]
    }
   ],
   "source": [
    "num = 1\n",
    "num +=  1\n",
    "print(num)"
   ]
  },
  {
   "cell_type": "raw",
   "id": "6d642386-4a45-4233-b113-4e1b94733f9a",
   "metadata": {},
   "source": [
    "Absolute value removes neagtive sign"
   ]
  },
  {
   "cell_type": "code",
   "execution_count": 11,
   "id": "7b8dbb74-0465-4034-89e8-58782bbdf8dc",
   "metadata": {},
   "outputs": [
    {
     "name": "stdout",
     "output_type": "stream",
     "text": [
      "8\n"
     ]
    }
   ],
   "source": [
    "print(abs(-8))"
   ]
  },
  {
   "cell_type": "raw",
   "id": "017cfa7c-12ad-43a7-8839-c0e386dbe967",
   "metadata": {},
   "source": [
    "rounding digits"
   ]
  },
  {
   "cell_type": "code",
   "execution_count": 12,
   "id": "a1f34caf-4149-4a98-b5d1-2954ab05ee09",
   "metadata": {},
   "outputs": [
    {
     "name": "stdout",
     "output_type": "stream",
     "text": [
      "3\n"
     ]
    }
   ],
   "source": [
    "print(round(3.14))"
   ]
  },
  {
   "cell_type": "code",
   "execution_count": 14,
   "id": "ce18def3-5542-4d90-8edb-dd92f353da7c",
   "metadata": {},
   "outputs": [
    {
     "name": "stdout",
     "output_type": "stream",
     "text": [
      "3.8\n"
     ]
    }
   ],
   "source": [
    "print(round(3.75,1))"
   ]
  },
  {
   "cell_type": "code",
   "execution_count": 16,
   "id": "2398659d-60da-48c6-a030-51ceca11529f",
   "metadata": {},
   "outputs": [
    {
     "name": "stdout",
     "output_type": "stream",
     "text": [
      "False\n",
      "True\n",
      "True\n",
      "False\n",
      "True\n",
      "False\n"
     ]
    }
   ],
   "source": [
    "a = 8\n",
    "b = 11\n",
    "print(a==b)\n",
    "print(a!=b)\n",
    "print(a<b)\n",
    "print(a>b)\n",
    "print(a<=b)\n",
    "print(a>=b)"
   ]
  },
  {
   "cell_type": "raw",
   "id": "b242ec6f-4c5b-44c8-add5-34fc5517188c",
   "metadata": {},
   "source": [
    "int as string"
   ]
  },
  {
   "cell_type": "code",
   "execution_count": 17,
   "id": "080f69db-7d17-40d9-9417-9d84663ba9c0",
   "metadata": {},
   "outputs": [
    {
     "name": "stdout",
     "output_type": "stream",
     "text": [
      "112\n"
     ]
    }
   ],
   "source": [
    "a = '11'\n",
    "b = '2'\n",
    "print(a+b)"
   ]
  },
  {
   "cell_type": "raw",
   "id": "bd43e1b3-63f9-4b6f-b771-eba50a38c9a9",
   "metadata": {},
   "source": [
    "Casting"
   ]
  },
  {
   "cell_type": "code",
   "execution_count": 18,
   "id": "80a3c786-e20d-4a82-8a7d-9cd29c7b08fc",
   "metadata": {},
   "outputs": [
    {
     "name": "stdout",
     "output_type": "stream",
     "text": [
      "34\n"
     ]
    }
   ],
   "source": [
    "a = '26'\n",
    "b =' 8'\n",
    "a = int(a)\n",
    "b = int(b)\n",
    "print(a+b)"
   ]
  },
  {
   "cell_type": "code",
   "execution_count": null,
   "id": "e0343665-f90f-4357-911e-b15ef4355868",
   "metadata": {},
   "outputs": [],
   "source": []
  }
 ],
 "metadata": {
  "kernelspec": {
   "display_name": "Python 3 (ipykernel)",
   "language": "python",
   "name": "python3"
  },
  "language_info": {
   "codemirror_mode": {
    "name": "ipython",
    "version": 3
   },
   "file_extension": ".py",
   "mimetype": "text/x-python",
   "name": "python",
   "nbconvert_exporter": "python",
   "pygments_lexer": "ipython3",
   "version": "3.11.7"
  }
 },
 "nbformat": 4,
 "nbformat_minor": 5
}
